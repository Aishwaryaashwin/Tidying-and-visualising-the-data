{
 "cells": [
  {
   "cell_type": "markdown",
   "metadata": {},
   "source": [
    "#### Importing Pandas Library."
   ]
  },
  {
   "cell_type": "code",
   "execution_count": null,
   "metadata": {},
   "outputs": [],
   "source": [
    "import pandas as pd"
   ]
  },
  {
   "cell_type": "markdown",
   "metadata": {},
   "source": [
    "#### Reading the CSV file having ESB data and loading it to \"data\" dataframe ."
   ]
  },
  {
   "cell_type": "code",
   "execution_count": null,
   "metadata": {},
   "outputs": [],
   "source": [
    "data = pd.read_csv(\"data/esb.csv\",header=None)"
   ]
  },
  {
   "cell_type": "markdown",
   "metadata": {},
   "source": [
    "#### Displaying the loaded ESB data."
   ]
  },
  {
   "cell_type": "code",
   "execution_count": null,
   "metadata": {},
   "outputs": [],
   "source": [
    "data"
   ]
  },
  {
   "cell_type": "markdown",
   "metadata": {},
   "source": [
    "### Data Preperation: Includes Data cleaning, filling or removing missing values and removing unused columns.\n",
    "#### Segregating the city councils from the \"data\" dataframe."
   ]
  },
  {
   "cell_type": "code",
   "execution_count": null,
   "metadata": {},
   "outputs": [],
   "source": [
    "data.iloc[33]=data.iloc[33].str.replace('Cork', 'Cork_CityCouncil')\n",
    "data.iloc[34]=data.iloc[34].str.replace('Dublin', 'Dublin_CityCouncil')\n",
    "data.iloc[35]=data.iloc[35].str.replace('Galway', 'Galway_CityCouncil')\n",
    "data.iloc[36]=data.iloc[36].str.replace('Limerick', 'Limerick_CityCouncil')\n",
    "data.iloc[37]=data.iloc[37].str.replace('Waterford', 'Waterford_CityCouncil')"
   ]
  },
  {
   "cell_type": "markdown",
   "metadata": {},
   "source": [
    "#### Assigning the values of second row  as the column headings."
   ]
  },
  {
   "cell_type": "code",
   "execution_count": null,
   "metadata": {},
   "outputs": [],
   "source": [
    "data.columns=data.iloc[2]"
   ]
  },
  {
   "cell_type": "markdown",
   "metadata": {},
   "source": [
    "#### Eliminating the \"total\" columns for each year from \"data\" dataframe."
   ]
  },
  {
   "cell_type": "code",
   "execution_count": null,
   "metadata": {},
   "outputs": [],
   "source": [
    "data.drop([\"Total\"],\n",
    "                  axis=1,inplace=True)"
   ]
  },
  {
   "cell_type": "markdown",
   "metadata": {},
   "source": [
    "#### Eliminating the rows indexed at 0,38 and 32nd positions."
   ]
  },
  {
   "cell_type": "code",
   "execution_count": null,
   "metadata": {},
   "outputs": [],
   "source": [
    "data.drop([0,38,32],axis=0,inplace=True)"
   ]
  },
  {
   "cell_type": "markdown",
   "metadata": {},
   "source": [
    "#### Data obtained post deleting the columns and rows."
   ]
  },
  {
   "cell_type": "code",
   "execution_count": null,
   "metadata": {},
   "outputs": [],
   "source": [
    "data"
   ]
  },
  {
   "cell_type": "markdown",
   "metadata": {},
   "source": [
    "#### Assigning the values of the first row to variable data1."
   ]
  },
  {
   "cell_type": "code",
   "execution_count": null,
   "metadata": {},
   "outputs": [],
   "source": [
    "data1=data.iloc[0].values"
   ]
  },
  {
   "cell_type": "markdown",
   "metadata": {},
   "source": [
    "#### Creating new column names as per the data available in the dataframe. Eliminating 'NaN' from data1 by replacing NaN for every year with month appended . The columns contain Councils with each month and year appended to it."
   ]
  },
  {
   "cell_type": "code",
   "execution_count": null,
   "metadata": {},
   "outputs": [],
   "source": [
    "d=[\"County Councils\"]\n",
    "months=[\"Feb-\",\"Mar-\",\"Apr-\",\"May-\",\"Jun-\",\"Jul-\",\"Aug-\",\"Sep-\",\"Oct-\",\"Nov-\",\"Dec-\"]\n",
    "k=0\n",
    "for i in data1[1:13]:\n",
    "    if str(i)==\"nan\":\n",
    "        i=\"2006\"\n",
    "        d.append(months[k]+i)\n",
    "        k +=1\n",
    "    else:\n",
    "        d.append(\"Jan-\"+i)\n",
    "k=0\n",
    "for i in data1[13:25]:\n",
    "    if str(i)==\"nan\":\n",
    "        i=\"2007\"\n",
    "        d.append(months[k]+i)\n",
    "        k +=1\n",
    "    else:\n",
    "        d.append(\"Jan-\"+i)\n",
    "k=0\n",
    "for i in data1[25:37]:\n",
    "    if str(i)==\"nan\":\n",
    "        i=\"2008\"\n",
    "        d.append(months[k]+i)\n",
    "        k +=1\n",
    "    else:\n",
    "        d.append(\"Jan-\"+i)\n",
    "k=0\n",
    "for i in data1[37:49]:\n",
    "    if str(i)==\"nan\":\n",
    "        i=\"2009\"\n",
    "        d.append(months[k]+i)\n",
    "        k +=1\n",
    "    else:\n",
    "        d.append(\"Jan-\"+i)\n",
    "k=0\n",
    "for i in data1[49:61]:\n",
    "    if str(i)==\"nan\":\n",
    "        i=\"2010\"\n",
    "        d.append(months[k]+i)\n",
    "        k +=1\n",
    "    else:\n",
    "        d.append(\"Jan-\"+i)\n",
    "k=0\n",
    "for i in data1[61:73]:\n",
    "    if str(i)==\"nan\":\n",
    "        i=\"2011\"\n",
    "        d.append(months[k]+i)\n",
    "        k +=1\n",
    "    else:\n",
    "        d.append(\"Jan-\"+i)\n",
    "k=0\n",
    "for i in data1[73:85]:\n",
    "    if str(i)==\"nan\":\n",
    "        i=\"2012\"\n",
    "        d.append(months[k]+i)\n",
    "        k +=1\n",
    "    else:\n",
    "        d.append(\"Jan-\"+i)\n",
    "k=0\n",
    "for i in data1[85:97]:\n",
    "    if str(i)==\"nan\":\n",
    "        i=\"2013\"\n",
    "        d.append(months[k]+i)\n",
    "        k +=1\n",
    "    else:\n",
    "        d.append(\"Jan-\"+i)\n",
    "k=0"
   ]
  },
  {
   "cell_type": "markdown",
   "metadata": {},
   "source": [
    "#### Assigning the generated column names for the \"data\" dataframe."
   ]
  },
  {
   "cell_type": "code",
   "execution_count": null,
   "metadata": {},
   "outputs": [],
   "source": [
    "data.columns=d"
   ]
  },
  {
   "cell_type": "code",
   "execution_count": null,
   "metadata": {},
   "outputs": [],
   "source": [
    "data"
   ]
  },
  {
   "cell_type": "markdown",
   "metadata": {},
   "source": [
    "#### Eliminating the below indexed rows as a part of data cleaning which contains data about the year, month and total connections in a particular month."
   ]
  },
  {
   "cell_type": "code",
   "execution_count": null,
   "metadata": {},
   "outputs": [],
   "source": [
    "data.drop([1,2,39],axis=0,inplace=True)"
   ]
  },
  {
   "cell_type": "code",
   "execution_count": null,
   "metadata": {},
   "outputs": [],
   "source": [
    "data.head()"
   ]
  },
  {
   "cell_type": "markdown",
   "metadata": {},
   "source": [
    "#### Melting the dataframe to obtain it in a tidy format. For the melt function, I'm considering \"County Councils\" as my unique identifier with \"Month-year\" as identifier variable and ESB value as the value. The melted dataframe \"data_clean\" contains the city name with the connection value for each month of the year from 2006 to 2013."
   ]
  },
  {
   "cell_type": "code",
   "execution_count": null,
   "metadata": {},
   "outputs": [],
   "source": [
    "data_clean = pd.melt(\n",
    "    data,\n",
    "    id_vars=['County Councils'],\n",
    "    var_name=['Month-year'],\n",
    "    value_name='Connection_Num'\n",
    ")"
   ]
  },
  {
   "cell_type": "markdown",
   "metadata": {},
   "source": [
    "#### Seperating the Month and Year columns."
   ]
  },
  {
   "cell_type": "code",
   "execution_count": null,
   "metadata": {},
   "outputs": [],
   "source": [
    "data_clean[\"Month\"]=data_clean[\"Month-year\"].str.split('-',expand=True)[0]\n",
    "data_clean[\"Year\"]=data_clean[\"Month-year\"].str.split('-',expand=True)[1]"
   ]
  },
  {
   "cell_type": "markdown",
   "metadata": {},
   "source": [
    "#### Dropping the column \"Month-year\" column as we have already seperated them in the above code."
   ]
  },
  {
   "cell_type": "code",
   "execution_count": null,
   "metadata": {},
   "outputs": [],
   "source": [
    "data_clean.drop([\"Month-year\"],axis=1,inplace=True)"
   ]
  },
  {
   "cell_type": "markdown",
   "metadata": {},
   "source": [
    "#### Eliminating the \"#\" present in 2316th location."
   ]
  },
  {
   "cell_type": "code",
   "execution_count": null,
   "metadata": {},
   "outputs": [],
   "source": [
    "data_clean.iloc[2316]=data_clean.iloc[2316].str.replace(\"#\",\"\")"
   ]
  },
  {
   "cell_type": "code",
   "execution_count": null,
   "metadata": {},
   "outputs": [],
   "source": [
    "data_clean"
   ]
  },
  {
   "cell_type": "markdown",
   "metadata": {},
   "source": [
    "#### Ordering and Renaming the column names."
   ]
  },
  {
   "cell_type": "code",
   "execution_count": null,
   "metadata": {},
   "outputs": [],
   "source": [
    "new_order = ['County Councils','Year','Month','Connection_Num']\n",
    "data_clean = data_clean[new_order]\n",
    "data_clean.columns=['Councils','Year','Month','Connection_Num']"
   ]
  },
  {
   "cell_type": "code",
   "execution_count": null,
   "metadata": {},
   "outputs": [],
   "source": [
    "data_clean"
   ]
  },
  {
   "cell_type": "markdown",
   "metadata": {},
   "source": [
    "#### Exporting the tidy data for further manipulations."
   ]
  },
  {
   "cell_type": "code",
   "execution_count": null,
   "metadata": {},
   "outputs": [],
   "source": [
    "data_clean.to_csv(r'data/tidy_data.csv',index=False)"
   ]
  },
  {
   "cell_type": "markdown",
   "metadata": {},
   "source": [
    "#### Visualisations for my tidied data is provided in my Second Notebook."
   ]
  }
 ],
 "metadata": {
  "kernelspec": {
   "display_name": "Python 3",
   "language": "python",
   "name": "python3"
  },
  "language_info": {
   "codemirror_mode": {
    "name": "ipython",
    "version": 3
   },
   "file_extension": ".py",
   "mimetype": "text/x-python",
   "name": "python",
   "nbconvert_exporter": "python",
   "pygments_lexer": "ipython3",
   "version": "3.7.3"
  }
 },
 "nbformat": 4,
 "nbformat_minor": 2
}
