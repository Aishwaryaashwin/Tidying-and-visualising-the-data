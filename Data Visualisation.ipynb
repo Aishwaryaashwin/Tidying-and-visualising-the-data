{
 "cells": [
  {
   "cell_type": "markdown",
   "metadata": {},
   "source": [
    "#### Importing Pandas and altair libraries ."
   ]
  },
  {
   "cell_type": "code",
   "execution_count": null,
   "metadata": {},
   "outputs": [],
   "source": [
    "import pandas as pd\n",
    "import altair as alt\n"
   ]
  },
  {
   "cell_type": "markdown",
   "metadata": {},
   "source": [
    "#### Reading the tidied data to \"tidy_data\" dataframe."
   ]
  },
  {
   "cell_type": "code",
   "execution_count": null,
   "metadata": {},
   "outputs": [],
   "source": [
    "tidy_data = pd.read_csv(\"data/tidy_data.csv\")\n",
    "tidy_data"
   ]
  },
  {
   "cell_type": "markdown",
   "metadata": {},
   "source": [
    "### Visualisation1: plot gives the trend on the total number of connections for each county and city councils from 2006 to 2013."
   ]
  },
  {
   "cell_type": "code",
   "execution_count": null,
   "metadata": {},
   "outputs": [],
   "source": [
    "alt.Chart(tidy_data).mark_point(size=70,filled=True).encode(\n",
    "    alt.X(\n",
    "        \"Councils\",\n",
    "        title=\"Councils\"),\n",
    "    alt.Y(\n",
    "        'sum(Connection_Num)',\n",
    "        title=\"Total ESB connections\"\n",
    "        \n",
    "    ),\n",
    "    color='Year:N',\n",
    "    column='Year',\n",
    "    tooltip=['Councils', 'sum(Connection_Num)']\n",
    "  )"
   ]
  },
  {
   "cell_type": "markdown",
   "metadata": {},
   "source": [
    "#### Filtering the data for City councils from the \"Councils\" column."
   ]
  },
  {
   "cell_type": "code",
   "execution_count": null,
   "metadata": {},
   "outputs": [],
   "source": [
    "tidy_data1=tidy_data[tidy_data[\"Councils\"].str.contains(pat = '_CityCouncil',regex = True)]"
   ]
  },
  {
   "cell_type": "markdown",
   "metadata": {},
   "source": [
    "### Visualisation2: The plot gives the Average ESB connections for each city councils. \n",
    "#### Dublin City Council has the highest connections."
   ]
  },
  {
   "cell_type": "code",
   "execution_count": null,
   "metadata": {},
   "outputs": [],
   "source": [
    "graph=alt.Chart(tidy_data1).mark_bar(color='firebrick').encode(\n",
    "alt.X('average(Connection_Num):Q',\n",
    "        title=\"Average ESB Connections\"),\n",
    "    alt.Y('Councils:N', sort='-x',\n",
    "          title=\"City Councils\")\n",
    ")\n",
    "text = graph.mark_text(align='left',baseline='middle',color=\"blue\",angle=0).encode(\n",
    "    text='average(Connection_Num)'\n",
    ")\n",
    "graph+text       "
   ]
  },
  {
   "cell_type": "markdown",
   "metadata": {},
   "source": [
    "### Visualisation 3: The plot gives the total Number of connections for each month in a quarter for the years 2006 to 2013."
   ]
  },
  {
   "cell_type": "code",
   "execution_count": null,
   "metadata": {},
   "outputs": [],
   "source": [
    "sample1=tidy_data.query(\"Month in ['Jan','Feb','Mar']\")\n",
    "sample2=tidy_data.query(\"Month in ['Apr','May','Jun']\")\n",
    "sample3=tidy_data.query(\"Month in ['Jul','Aug','Sep']\")\n",
    "sample4=tidy_data.query(\"Month in ['Oct','Nov','Dec']\")\n",
    "sample_1=alt.Chart(sample1,width=150).mark_area().encode(\n",
    "     alt.X(\n",
    "        \"Month\", sort = ['Jan','Feb','Mar'],\n",
    "        title=\"First Quarter\"),\n",
    "    alt.Y(\n",
    "        'sum(Connection_Num)',\n",
    "        title=\"ESB connections for first quarter\"),\n",
    "        color='Year:N',\n",
    "        tooltip=['Month', 'Year','sum(Connection_Num)']\n",
    "        )\n",
    "sample_2=alt.Chart(sample2,width=150).mark_area().encode(\n",
    "     alt.X(\n",
    "        \"Month\",sort = ['Apr','May','Jun'],\n",
    "        title=\"Second Quarter\"),\n",
    "    alt.Y(\n",
    "        'sum(Connection_Num)',\n",
    "        title=\"ESB connections for Second quarter\"),\n",
    "        color='Year:N',\n",
    "        tooltip=['Month', 'Year','sum(Connection_Num)']\n",
    "        )\n",
    "sample_3=alt.Chart(sample3,width=150).mark_area().encode(\n",
    "     alt.X(\n",
    "        \"Month\",sort = ['Jul','Aug','Sep'],\n",
    "        title=\"Third Quarter\"),\n",
    "    alt.Y(\n",
    "        'sum(Connection_Num)',\n",
    "        title=\"ESB connections for Third quarter\"),\n",
    "    color='Year:N',\n",
    "        tooltip=['Month', \"Year\",'sum(Connection_Num)']\n",
    "        )\n",
    "sample_4=alt.Chart(sample4,width=150).mark_area().encode(\n",
    "     alt.X(\n",
    "        \"Month\",sort = ['Oct','Nov','Dec'],\n",
    "        title=\"Fourth Quarter\"),\n",
    "    alt.Y(\n",
    "        'sum(Connection_Num)',\n",
    "        title=\"ESB connections for fourth quarter\"),\n",
    "    color='Year:N',\n",
    "        tooltip=['Month', 'Year','sum(Connection_Num)']\n",
    "        )   \n",
    "sample_1|sample_2|sample_3|sample_4"
   ]
  },
  {
   "cell_type": "markdown",
   "metadata": {},
   "source": [
    "#### Obtaining the total number of connections by year for all the councils."
   ]
  },
  {
   "cell_type": "code",
   "execution_count": null,
   "metadata": {},
   "outputs": [],
   "source": [
    "appended_data = []\n",
    "for r in range(2006,2014):\n",
    "    All_Councils= tidy_data[tidy_data[\"Year\"]==r].groupby(['Councils','Year']).sum().sort_values(by='Connection_Num',ascending=False)\n",
    "    appended_data.append(All_Councils)\n",
    "appended_data = pd.concat(appended_data)"
   ]
  },
  {
   "cell_type": "code",
   "execution_count": null,
   "metadata": {},
   "outputs": [],
   "source": [
    "appended_data=appended_data.reset_index()"
   ]
  },
  {
   "cell_type": "code",
   "execution_count": null,
   "metadata": {},
   "outputs": [],
   "source": [
    "appended_data[\"Year\"]=appended_data[\"Year\"].astype(str)"
   ]
  },
  {
   "cell_type": "markdown",
   "metadata": {},
   "source": [
    "### Visualisation 4: Plot gives the trend for the number of connections over the period of time for each councils."
   ]
  },
  {
   "cell_type": "code",
   "execution_count": null,
   "metadata": {},
   "outputs": [],
   "source": [
    "Bar=alt.Chart().mark_bar(opacity=0.8,color=\"steelblue\",size=3.25).encode(\n",
    "        x= alt.X(\n",
    "        'Year',\n",
    "        title=\" Years from 2006 to 2013\"),\n",
    "        y=alt.Y(\n",
    "        'Connection_Num',\n",
    "        )\n",
    "    ).properties(\n",
    "width = 200,\n",
    "height =250)\n",
    "Name=Bar.mark_text(align='left',baseline='bottom',angle=325,size=11.5).encode(\n",
    "    text ='Connection_Num')\n",
    "    \n",
    "line = alt.Chart().mark_line(color=\"red\",size=1.5).encode(\n",
    "        x= alt.X(\n",
    "        \"Year\"),\n",
    "        y=alt.Y(\n",
    "        'Connection_Num',\n",
    "        title='Total ESB Connections',\n",
    "        )\n",
    "    ).properties(\n",
    "width = 200,\n",
    "height= 250)\n",
    "\n",
    "graph=alt.layer(Bar,Name,line).facet(\"Councils:N\", data=appended_data)\n",
    "graph"
   ]
  },
  {
   "cell_type": "markdown",
   "metadata": {},
   "source": [
    "### Visualisation 5: Plot gives the max and min connection count for each month and year."
   ]
  },
  {
   "cell_type": "code",
   "execution_count": null,
   "metadata": {},
   "outputs": [],
   "source": [
    "alt.Chart(tidy_data).mark_boxplot(extent='min-max',size=25).encode(\n",
    "     alt.X(\n",
    "        \"Month:O\", sort = ['Jan','Feb','Mar','Apr','May','Jun','Jul','Aug','Sep','Oct','Nov','Dec'],\n",
    "        title=\"Month\"),\n",
    "    alt.Y(\n",
    "        'Connection_Num:Q',\n",
    "        title=\"Total ESB connections\"),\n",
    "      color='Year:N'\n",
    "    ).properties(\n",
    "width = 500,\n",
    "height = 500)"
   ]
  }
 ],
 "metadata": {
  "kernelspec": {
   "display_name": "Python 3",
   "language": "python",
   "name": "python3"
  },
  "language_info": {
   "codemirror_mode": {
    "name": "ipython",
    "version": 3
   },
   "file_extension": ".py",
   "mimetype": "text/x-python",
   "name": "python",
   "nbconvert_exporter": "python",
   "pygments_lexer": "ipython3",
   "version": "3.7.3"
  }
 },
 "nbformat": 4,
 "nbformat_minor": 2
}
